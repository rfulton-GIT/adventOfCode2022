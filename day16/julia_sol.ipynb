{
 "cells": [
  {
   "cell_type": "code",
   "execution_count": 1,
   "id": "devoted-nebraska",
   "metadata": {
    "scrolled": true
   },
   "outputs": [
    {
     "data": {
      "text/plain": [
       "4"
      ]
     },
     "execution_count": 1,
     "metadata": {},
     "output_type": "execute_result"
    }
   ],
   "source": [
    "Threads.nthreads()"
   ]
  },
  {
   "cell_type": "code",
   "execution_count": 2,
   "id": "relevant-sleep",
   "metadata": {},
   "outputs": [],
   "source": [
    "using BenchmarkTools"
   ]
  },
  {
   "cell_type": "code",
   "execution_count": 3,
   "id": "important-cocktail",
   "metadata": {},
   "outputs": [
    {
     "name": "stdout",
     "output_type": "stream",
     "text": [
      "SubString{String}[\"Valve QJ has flow rate=11; tunnels lead to valves HB, GL\", \"Valve VZ has flow rate=10; tunnel leads to valve NE\", \"Valve TX has flow rate=19; tunnels lead to valves MG, OQ, HM\", \"Valve ZI has flow rate=5; tunnels lead to valves BY, ON, RU, LF, JR\", \"Valve IH has flow rate=0; tunnels lead to valves YB, QS\", \"Valve QS has flow rate=22; tunnel leads to valve IH\", \"Valve QB has flow rate=0; tunnels lead to valves QX, ES\", \"Valve NX has flow rate=0; tunnels lead to valves UH, OP\", \"Valve PJ has flow rate=0; tunnels lead to valves OC, UH\", \"Valve OR has flow rate=6; tunnels lead to valves QH, BH, HB, JD\", \"Valve OC has flow rate=7; tunnels lead to valves IZ, JR, TA, ZH, PJ\", \"Valve UC has flow rate=0; tunnels lead to valves AA, BY\", \"Valve QX has flow rate=0; tunnels lead to valves AA, QB\", \"Valve IZ has flow rate=0; tunnels lead to valves OC, SX\", \"Valve AG has flow rate=13; tunnels lead to valves NW, GL, SM\", \"Valve ON has flow rate=0; tunnels lead to valves MO, ZI\", \"Valve XT has flow rate=18; tunnels lead to valves QZ, PG\", \"Valve AX has flow rate=0; tunnels lead to valves UH, MO\", \"Valve JD has flow rate=0; tunnels lead to valves OR, SM\", \"Valve HM has flow rate=0; tunnels lead to valves TX, QH\", \"Valve LF has flow rate=0; tunnels lead to valves ZI, UH\", \"Valve QH has flow rate=0; tunnels lead to valves OR, HM\", \"Valve RT has flow rate=21; tunnel leads to valve PG\", \"Valve NE has flow rate=0; tunnels lead to valves VZ, TA\", \"Valve OQ has flow rate=0; tunnels lead to valves TX, GE\", \"Valve AA has flow rate=0; tunnels lead to valves QZ, UC, OP, QX, EH\", \"Valve UH has flow rate=17; tunnels lead to valves PJ, NX, AX, LF\", \"Valve GE has flow rate=0; tunnels lead to valves YB, OQ\", \"Valve EH has flow rate=0; tunnels lead to valves AA, MO\", \"Valve MG has flow rate=0; tunnels lead to valves TX, NW\", \"Valve YB has flow rate=20; tunnels lead to valves IH, GE, XG\", \"Valve MO has flow rate=15; tunnels lead to valves EH, ON, AX, ZH, CB\", \"Valve JR has flow rate=0; tunnels lead to valves ZI, OC\", \"Valve GL has flow rate=0; tunnels lead to valves AG, QJ\", \"Valve SM has flow rate=0; tunnels lead to valves JD, AG\", \"Valve HB has flow rate=0; tunnels lead to valves OR, QJ\", \"Valve TA has flow rate=0; tunnels lead to valves OC, NE\", \"Valve PG has flow rate=0; tunnels lead to valves RT, XT\", \"Valve XG has flow rate=0; tunnels lead to valves CB, YB\", \"Valve ES has flow rate=9; tunnels lead to valves QB, FL\", \"Valve BH has flow rate=0; tunnels lead to valves RU, OR\", \"Valve FL has flow rate=0; tunnels lead to valves SX, ES\", \"Valve CB has flow rate=0; tunnels lead to valves MO, XG\", \"Valve QZ has flow rate=0; tunnels lead to valves AA, XT\", \"Valve BY has flow rate=0; tunnels lead to valves UC, ZI\", \"Valve ZH has flow rate=0; tunnels lead to valves MO, OC\", \"Valve OP has flow rate=0; tunnels lead to valves NX, AA\", \"Valve NW has flow rate=0; tunnels lead to valves MG, AG\", \"Valve RU has flow rate=0; tunnels lead to valves ZI, BH\", \"Valve SX has flow rate=16; tunnels lead to valves IZ, FL\"]"
     ]
    }
   ],
   "source": [
    "fname = \"mini.txt\"\n",
    "fname = \"test.txt\"\n",
    "fname = \"input.txt\"\n",
    "f = open(fname, \"r\")\n",
    "text = read(f, String)\n",
    "lines = split(text, \"\\n\")[begin:end-1]\n",
    "print(lines)"
   ]
  },
  {
   "cell_type": "code",
   "execution_count": 4,
   "id": "phantom-operator",
   "metadata": {},
   "outputs": [],
   "source": [
    "struct Node\n",
    "    name::String\n",
    "    flow_rate::Int64\n",
    "    adj # Dict{String,Int64}\n",
    "end"
   ]
  },
  {
   "cell_type": "code",
   "execution_count": 5,
   "id": "sufficient-riding",
   "metadata": {
    "scrolled": false
   },
   "outputs": [
    {
     "data": {
      "text/plain": [
       "Dict{String, Node} with 50 entries:\n",
       "  \"QX\" => Node(\"QX\", 0, Dict{SubString{String}, Int64}(\"QB\"=>1, \"AA\"=>1))\n",
       "  \"ES\" => Node(\"ES\", 9, Dict{SubString{String}, Int64}(\"QB\"=>1, \"FL\"=>1))\n",
       "  \"VZ\" => Node(\"VZ\", 10, Dict{SubString{String}, Int64}(\"NE\"=>1))\n",
       "  \"SM\" => Node(\"SM\", 0, Dict{SubString{String}, Int64}(\"JD\"=>1, \"AG\"=>1))\n",
       "  \"NX\" => Node(\"NX\", 0, Dict{SubString{String}, Int64}(\"UH\"=>1, \"OP\"=>1))\n",
       "  \"OP\" => Node(\"OP\", 0, Dict{SubString{String}, Int64}(\"AA\"=>1, \"NX\"=>1))\n",
       "  \"EH\" => Node(\"EH\", 0, Dict{SubString{String}, Int64}(\"AA\"=>1, \"MO\"=>1))\n",
       "  \"TA\" => Node(\"TA\", 0, Dict{SubString{String}, Int64}(\"OC\"=>1, \"NE\"=>1))\n",
       "  \"HM\" => Node(\"HM\", 0, Dict{SubString{String}, Int64}(\"TX\"=>1, \"QH\"=>1))\n",
       "  \"TX\" => Node(\"TX\", 19, Dict{SubString{String}, Int64}(\"MG\"=>1, \"HM\"=>1, \"OQ\"=…\n",
       "  \"OQ\" => Node(\"OQ\", 0, Dict{SubString{String}, Int64}(\"TX\"=>1, \"GE\"=>1))\n",
       "  \"OC\" => Node(\"OC\", 7, Dict{SubString{String}, Int64}(\"PJ\"=>1, \"JR\"=>1, \"ZH\"=>…\n",
       "  \"IH\" => Node(\"IH\", 0, Dict{SubString{String}, Int64}(\"QS\"=>1, \"YB\"=>1))\n",
       "  \"GE\" => Node(\"GE\", 0, Dict{SubString{String}, Int64}(\"OQ\"=>1, \"YB\"=>1))\n",
       "  \"NW\" => Node(\"NW\", 0, Dict{SubString{String}, Int64}(\"MG\"=>1, \"AG\"=>1))\n",
       "  \"XG\" => Node(\"XG\", 0, Dict{SubString{String}, Int64}(\"CB\"=>1, \"YB\"=>1))\n",
       "  \"QJ\" => Node(\"QJ\", 11, Dict{SubString{String}, Int64}(\"HB\"=>1, \"GL\"=>1))\n",
       "  \"QH\" => Node(\"QH\", 0, Dict{SubString{String}, Int64}(\"HM\"=>1, \"OR\"=>1))\n",
       "  \"JR\" => Node(\"JR\", 0, Dict{SubString{String}, Int64}(\"ZI\"=>1, \"OC\"=>1))\n",
       "  \"AG\" => Node(\"AG\", 13, Dict{SubString{String}, Int64}(\"SM\"=>1, \"GL\"=>1, \"NW\"=…\n",
       "  \"JD\" => Node(\"JD\", 0, Dict{SubString{String}, Int64}(\"SM\"=>1, \"OR\"=>1))\n",
       "  \"ON\" => Node(\"ON\", 0, Dict{SubString{String}, Int64}(\"MO\"=>1, \"ZI\"=>1))\n",
       "  \"HB\" => Node(\"HB\", 0, Dict{SubString{String}, Int64}(\"QJ\"=>1, \"OR\"=>1))\n",
       "  \"MG\" => Node(\"MG\", 0, Dict{SubString{String}, Int64}(\"TX\"=>1, \"NW\"=>1))\n",
       "  \"BH\" => Node(\"BH\", 0, Dict{SubString{String}, Int64}(\"RU\"=>1, \"OR\"=>1))\n",
       "  ⋮    => ⋮"
      ]
     },
     "execution_count": 5,
     "metadata": {},
     "output_type": "execute_result"
    }
   ],
   "source": [
    "nodes = []\n",
    "for i in 1:length(lines)\n",
    "    line = lines[i] * \",\"\n",
    "    words = split(line,\" \")\n",
    "    name = words[2]\n",
    "    rate = parse(Int,words[5][6:end-1])\n",
    "    neighbors = Dict(words[i][begin:end-1] => 1 for i = 10:length(words))\n",
    "    push!(nodes,Node(name, rate, neighbors))\n",
    "end\n",
    "g = Dict(n.name => n for n in nodes)"
   ]
  },
  {
   "cell_type": "markdown",
   "id": "respiratory-resolution",
   "metadata": {},
   "source": [
    "\n",
    "What defines a state?\n",
    "1. the time elapsed\n",
    "2. the current position\n",
    "3. which nodes have been switched on"
   ]
  },
  {
   "cell_type": "code",
   "execution_count": 6,
   "id": "beneficial-construction",
   "metadata": {},
   "outputs": [
    {
     "data": {
      "text/plain": [
       "index (generic function with 1 method)"
      ]
     },
     "execution_count": 6,
     "metadata": {},
     "output_type": "execute_result"
    }
   ],
   "source": [
    "function index(collection, element)\n",
    "    for i = 1:length(collection)\n",
    "        if collection[i] == element\n",
    "            return i\n",
    "        end\n",
    "    end\n",
    "    return -1\n",
    "end"
   ]
  },
  {
   "cell_type": "code",
   "execution_count": 7,
   "id": "tough-burst",
   "metadata": {},
   "outputs": [
    {
     "data": {
      "text/plain": [
       "reduce_graph (generic function with 1 method)"
      ]
     },
     "execution_count": 7,
     "metadata": {},
     "output_type": "execute_result"
    }
   ],
   "source": [
    "function reduce_graph(g)\n",
    "    zerokeys = []\n",
    "    for pair in g\n",
    "        k, n = pair\n",
    "        if k == \"AA\"\n",
    "            continue\n",
    "        elseif n.flow_rate == 0\n",
    "            push!(zerokeys, k)\n",
    "        end\n",
    "    end\n",
    "    println(zerokeys)\n",
    "    for key in zerokeys\n",
    "        n = pop!(g,key)\n",
    "        for p1 in n.adj\n",
    "            name1, d1 = p1\n",
    "            n1 = g[name1]\n",
    "            pop!(n1.adj, key)\n",
    "            \n",
    "            for p2 in n.adj\n",
    "                name2, d2 = p2\n",
    "                if name2 == name1\n",
    "                    continue\n",
    "                end\n",
    "                n2 = g[name2]\n",
    "                direct = 1_000_000\n",
    "                for pair in n1.adj\n",
    "                    k,v = pair\n",
    "                    if k == name2\n",
    "                        direct = v\n",
    "                    end\n",
    "                end\n",
    "                indirect = d1 + d2\n",
    "                if indirect < direct\n",
    "                    n1.adj[name2] = indirect\n",
    "                    n2.adj[name1] = indirect\n",
    "                end\n",
    "            end\n",
    "        end\n",
    "    end\n",
    "end"
   ]
  },
  {
   "cell_type": "code",
   "execution_count": 8,
   "id": "entitled-wireless",
   "metadata": {},
   "outputs": [
    {
     "name": "stdout",
     "output_type": "stream",
     "text": [
      "50\n",
      "Any[\"QX\", \"SM\", \"NX\", \"OP\", \"EH\", \"TA\", \"HM\", \"OQ\", \"IH\", \"GE\", \"NW\", \"XG\", \"QH\", \"JR\", \"JD\", \"ON\", \"HB\", \"MG\", \"BH\", \"CB\", \"BY\", \"FL\", \"ZH\", \"GL\", \"QB\", \"NE\", \"LF\", \"PJ\", \"AX\", \"UC\", \"RU\", \"PG\", \"IZ\", \"QZ\"]\n"
     ]
    },
    {
     "data": {
      "text/plain": [
       "34"
      ]
     },
     "execution_count": 8,
     "metadata": {},
     "output_type": "execute_result"
    }
   ],
   "source": [
    "L = length(g)\n",
    "println(L)\n",
    "reduce_graph(g)\n",
    "L - length(g)"
   ]
  },
  {
   "cell_type": "code",
   "execution_count": 9,
   "id": "satisfied-resident",
   "metadata": {
    "scrolled": true
   },
   "outputs": [],
   "source": [
    "ordering = []\n",
    "for pair in g\n",
    "    key, val = pair\n",
    "    push!(ordering,key)\n",
    "end"
   ]
  },
  {
   "cell_type": "code",
   "execution_count": 10,
   "id": "later-validity",
   "metadata": {},
   "outputs": [],
   "source": [
    "time_limit = 30\n",
    "# fix an ordering\n",
    "L = length(g)\n",
    "subsets = 2^L\n",
    "pressure = []\n",
    "for i in 1:subsets\n",
    "    total = 0\n",
    "    for j in 0:L-1\n",
    "        name = ordering[j+1]\n",
    "        total += g[name].flow_rate*(((i-1)>>j)%2)\n",
    "    end\n",
    "    push!(pressure, total)\n",
    "end"
   ]
  },
  {
   "cell_type": "code",
   "execution_count": 11,
   "id": "theoretical-value",
   "metadata": {},
   "outputs": [
    {
     "data": {
      "text/plain": [
       "get_answer (generic function with 1 method)"
      ]
     },
     "execution_count": 11,
     "metadata": {},
     "output_type": "execute_result"
    }
   ],
   "source": [
    "function get_answer(time_limit, g, ordering, net_pressure)\n",
    "    L = length(g)\n",
    "    subsets = 2^L\n",
    "    DP = [[[0 for position in 1:L] for config in 1:subsets ] for minute in 1:time_limit+1]\n",
    "    # it must be backwards for optimality\n",
    "    # this takes 30*L*(2**L)\n",
    "    for minute in time_limit:-1:1\n",
    "        for config in 0:subsets - 1\n",
    "            for position in 1:L\n",
    "                initial_benefit = net_pressure[config+1]\n",
    "                node = g[ordering[position]]\n",
    "                isOff = (config >>(position-1)) % 2 == 0\n",
    "                turnOn = DP[minute+1][config + isOff*2^(position-1) + 1][position]\n",
    "                best = turnOn + initial_benefit\n",
    "                for pair in node.adj\n",
    "                    name,pos = pair\n",
    "                    new_pos = index(ordering, name)\n",
    "                    travel_time = node.adj[name]\n",
    "                    if travel_time + minute > time_limit\n",
    "                        best = max(best, initial_benefit)\n",
    "                    else\n",
    "                        alt = travel_time*initial_benefit \n",
    "                        alt += DP[minute + travel_time][config+1][new_pos]\n",
    "                        best = max(best, alt)\n",
    "                    end\n",
    "                end\n",
    "                DP[minute][config+1][position] = best\n",
    "            end\n",
    "        end\n",
    "    end\n",
    "    return DP[1][1][index(ordering, \"AA\")]\n",
    "end"
   ]
  },
  {
   "cell_type": "code",
   "execution_count": 12,
   "id": "consistent-publicity",
   "metadata": {},
   "outputs": [
    {
     "name": "stdout",
     "output_type": "stream",
     "text": [
      " 87.658514 seconds (1.97 G allocations: 60.619 GiB, 9.39% gc time, 0.15% compilation time)\n"
     ]
    },
    {
     "data": {
      "text/plain": [
       "1820"
      ]
     },
     "execution_count": 12,
     "metadata": {},
     "output_type": "execute_result"
    }
   ],
   "source": [
    "@time get_answer(30, g, ordering, pressure)"
   ]
  },
  {
   "cell_type": "code",
   "execution_count": 21,
   "id": "offensive-decade",
   "metadata": {},
   "outputs": [
    {
     "data": {
      "text/plain": [
       "multithreaded (generic function with 1 method)"
      ]
     },
     "execution_count": 21,
     "metadata": {},
     "output_type": "execute_result"
    }
   ],
   "source": [
    "function multithreaded(time_limit, g, ordering, net_pressure)\n",
    "    L = length(g)\n",
    "    subsets = 2^L\n",
    "    DP = [[0 for pos_and_config in 0:(L*subsets - 1)] for minute in 1:time_limit+1]\n",
    "    # it must be backwards for optimality\n",
    "    # this takes 30*L*(2**L)\n",
    "    for minute in time_limit:-1:1\n",
    "        Threads.@threads for pos_and_config in 0:(L*subsets - 1)\n",
    "            config = pos_and_config÷L \n",
    "            position = (pos_and_config % L) + 1\n",
    "            initial_benefit = net_pressure[config+1]\n",
    "            node = g[ordering[position]]\n",
    "            isOff = (config >>(position-1)) % 2 == 0\n",
    "            turnOn = DP[minute+1][position + L*(config + isOff*2^(position-1)) ]\n",
    "            best = turnOn + initial_benefit\n",
    "            for pair in node.adj\n",
    "                name,pos = pair\n",
    "                new_pos = index(ordering, name)\n",
    "                travel_time = node.adj[name]\n",
    "                if travel_time + minute > time_limit\n",
    "                    best = max(best, initial_benefit)\n",
    "                else\n",
    "                    alt = travel_time*initial_benefit \n",
    "                    alt += DP[minute + travel_time][new_pos + config*L]\n",
    "                    best = max(best, alt)\n",
    "                end\n",
    "            end\n",
    "            DP[minute][position + config*L] = best\n",
    "        end\n",
    "    end\n",
    "    return DP[1][index(ordering, \"AA\")]\n",
    "end"
   ]
  },
  {
   "cell_type": "code",
   "execution_count": 22,
   "id": "american-charm",
   "metadata": {},
   "outputs": [
    {
     "name": "stdout",
     "output_type": "stream",
     "text": [
      " 31.619429 seconds (2.00 G allocations: 60.956 GiB, 30.37% gc time, 0.33% compilation time)\n"
     ]
    },
    {
     "data": {
      "text/plain": [
       "1820"
      ]
     },
     "execution_count": 22,
     "metadata": {},
     "output_type": "execute_result"
    }
   ],
   "source": [
    "@time multithreaded(30, g, ordering, pressure)"
   ]
  },
  {
   "cell_type": "code",
   "execution_count": null,
   "id": "motivated-canal",
   "metadata": {},
   "outputs": [],
   "source": []
  }
 ],
 "metadata": {
  "kernelspec": {
   "display_name": "Julia (6 threads) 1.8.4",
   "language": "julia",
   "name": "julia-_6-threads_-1.8"
  },
  "language_info": {
   "file_extension": ".jl",
   "mimetype": "application/julia",
   "name": "julia",
   "version": "1.8.4"
  }
 },
 "nbformat": 4,
 "nbformat_minor": 5
}
